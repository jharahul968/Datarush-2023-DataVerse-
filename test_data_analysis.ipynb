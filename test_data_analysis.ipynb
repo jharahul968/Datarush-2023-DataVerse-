{
 "cells": [
  {
   "cell_type": "code",
   "execution_count": 1,
   "id": "1dcffdb0",
   "metadata": {},
   "outputs": [],
   "source": [
    "import pandas as pd"
   ]
  },
  {
   "cell_type": "code",
   "execution_count": 2,
   "id": "14b62c51",
   "metadata": {},
   "outputs": [],
   "source": [
    "test = pd.read_csv('test.csv')"
   ]
  },
  {
   "cell_type": "code",
   "execution_count": 3,
   "id": "1675595b",
   "metadata": {},
   "outputs": [
    {
     "data": {
      "text/plain": [
       "count     43785\n",
       "unique       20\n",
       "top          cs\n",
       "freq      13308\n",
       "Name: category, dtype: object"
      ]
     },
     "execution_count": 3,
     "metadata": {},
     "output_type": "execute_result"
    }
   ],
   "source": [
    "test['category'].describe()"
   ]
  },
  {
   "cell_type": "code",
   "execution_count": 6,
   "id": "67f8f4f3",
   "metadata": {},
   "outputs": [
    {
     "data": {
      "text/plain": [
       "array(['q-fin', 'cond-mat', 'math', 'cs', 'stat', 'eess', 'astro-ph',\n",
       "       'gr-qc', 'nucl-th', 'physics', 'quant-ph', 'hep-ph', 'hep-th',\n",
       "       'hep-ex', 'hep-lat', 'math-ph', 'econ', 'q-bio', 'nucl-ex', 'nlin'],\n",
       "      dtype=object)"
      ]
     },
     "execution_count": 6,
     "metadata": {},
     "output_type": "execute_result"
    }
   ],
   "source": [
    "test['category'].unique()"
   ]
  },
  {
   "cell_type": "code",
   "execution_count": 8,
   "id": "18dca201",
   "metadata": {},
   "outputs": [
    {
     "data": {
      "text/plain": [
       "cs          13308\n",
       "math         9059\n",
       "cond-mat     3652\n",
       "physics      3390\n",
       "astro-ph     3012\n",
       "stat         2591\n",
       "eess         1734\n",
       "quant-ph     1291\n",
       "hep-th        996\n",
       "hep-ph        979\n",
       "gr-qc         794\n",
       "math-ph       608\n",
       "q-bio         535\n",
       "hep-ex        375\n",
       "nucl-th       342\n",
       "nlin          305\n",
       "q-fin         302\n",
       "econ          199\n",
       "nucl-ex       186\n",
       "hep-lat       127\n",
       "Name: category, dtype: int64"
      ]
     },
     "execution_count": 8,
     "metadata": {},
     "output_type": "execute_result"
    }
   ],
   "source": [
    "test['category'].value_counts()"
   ]
  },
  {
   "cell_type": "code",
   "execution_count": 9,
   "id": "f3c76f94",
   "metadata": {},
   "outputs": [
    {
     "data": {
      "text/plain": [
       "38037"
      ]
     },
     "execution_count": 9,
     "metadata": {},
     "output_type": "execute_result"
    }
   ],
   "source": [
    "13308 + 9059 + 3652 + 3390 + 3012 + 2591 + 1734 + 1291"
   ]
  },
  {
   "cell_type": "code",
   "execution_count": 10,
   "id": "806498be",
   "metadata": {},
   "outputs": [
    {
     "data": {
      "text/plain": [
       "0.8687221651250429"
      ]
     },
     "execution_count": 10,
     "metadata": {},
     "output_type": "execute_result"
    }
   ],
   "source": [
    "38037/43785"
   ]
  },
  {
   "cell_type": "code",
   "execution_count": null,
   "id": "77464a08",
   "metadata": {},
   "outputs": [],
   "source": []
  }
 ],
 "metadata": {
  "kernelspec": {
   "display_name": "Python 3 (ipykernel)",
   "language": "python",
   "name": "python3"
  },
  "language_info": {
   "codemirror_mode": {
    "name": "ipython",
    "version": 3
   },
   "file_extension": ".py",
   "mimetype": "text/x-python",
   "name": "python",
   "nbconvert_exporter": "python",
   "pygments_lexer": "ipython3",
   "version": "3.10.8"
  }
 },
 "nbformat": 4,
 "nbformat_minor": 5
}
